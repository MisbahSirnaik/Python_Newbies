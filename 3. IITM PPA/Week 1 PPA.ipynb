{
  "nbformat": 4,
  "nbformat_minor": 0,
  "metadata": {
    "colab": {
      "provenance": []
    },
    "kernelspec": {
      "name": "python3",
      "display_name": "Python 3"
    },
    "language_info": {
      "name": "python"
    }
  },
  "cells": [
    {
      "cell_type": "markdown",
      "source": [
        "# PPA-1"
      ],
      "metadata": {
        "id": "cYxl-FlW48_0"
      }
    },
    {
      "cell_type": "markdown",
      "source": [
        "\n",
        "\n",
        "---\n",
        "\n",
        "**Q1. Print the first 5 positive integers in ascending order with one number in each line.**\n",
        "\n",
        "\n"
      ],
      "metadata": {
        "id": "iTS5Ap0d5ECo"
      }
    },
    {
      "cell_type": "code",
      "execution_count": null,
      "metadata": {
        "colab": {
          "base_uri": "https://localhost:8080/"
        },
        "id": "DOVvSgbV40_Z",
        "outputId": "2db2e1cd-3965-426d-bf10-27c05cfd4d3e"
      },
      "outputs": [
        {
          "output_type": "stream",
          "name": "stdout",
          "text": [
            "1\n",
            "2\n",
            "3\n",
            "4\n",
            "5\n"
          ]
        }
      ],
      "source": [
        "'''\n",
        "BRUTE FORCE:\n",
        "print(1)\n",
        "print(2)\n",
        "print(3)\n",
        "print(4)\n",
        "print(5)\n",
        "'''\n",
        "\n",
        "# EFFICIENT\n",
        "\n",
        "i = 1\n",
        "while i<=5:\n",
        "  print(i)\n",
        "  i+=1\n",
        "\n"
      ]
    },
    {
      "cell_type": "markdown",
      "source": [
        "\n",
        "\n",
        "---\n",
        "\n",
        "\n",
        "**Q2. Print the pattern below:**"
      ],
      "metadata": {
        "id": "tQAJHvCa6X-d"
      }
    },
    {
      "cell_type": "markdown",
      "source": [
        "![image.png](data:image/png;base64,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)"
      ],
      "metadata": {
        "id": "tf7SWreX6FnL"
      }
    },
    {
      "cell_type": "code",
      "source": [
        "# BRUTEFORCE\n",
        "print('''\n",
        "*\n",
        "**\n",
        "***\n",
        "****\n",
        "*****\n",
        "''')"
      ],
      "metadata": {
        "colab": {
          "base_uri": "https://localhost:8080/"
        },
        "id": "o6AtqkLq48D7",
        "outputId": "6eab1095-261e-43fa-8120-9ed0aea3be98"
      },
      "execution_count": null,
      "outputs": [
        {
          "output_type": "stream",
          "name": "stdout",
          "text": [
            "\n",
            "*\n",
            "**\n",
            "***\n",
            "****\n",
            "*****\n",
            "\n"
          ]
        }
      ]
    },
    {
      "cell_type": "code",
      "source": [
        "# EFFICIENT CODE\n",
        "\n",
        "i=1\n",
        "\n",
        "while i<=5:\n",
        "  j=1\n",
        "  while j<=i:\n",
        "    print(\"*\",end=\"\")\n",
        "    j=j+1\n",
        "  print()\n",
        "  i=i+1\n"
      ],
      "metadata": {
        "colab": {
          "base_uri": "https://localhost:8080/"
        },
        "id": "xCJoZosY7PLJ",
        "outputId": "02683c17-9103-428d-a93f-710252e09979"
      },
      "execution_count": null,
      "outputs": [
        {
          "output_type": "stream",
          "name": "stdout",
          "text": [
            "*\n",
            "**\n",
            "***\n",
            "****\n",
            "*****\n"
          ]
        }
      ]
    },
    {
      "cell_type": "markdown",
      "source": [
        "**Q3. Accept an integer as input and print its square as output.**"
      ],
      "metadata": {
        "id": "XU0V_F6z-dYu"
      }
    },
    {
      "cell_type": "code",
      "source": [
        "num = int(input(\"Please enter a number: \"))\n",
        "print(\"Square of\",num,\"=\",num ** 2)"
      ],
      "metadata": {
        "colab": {
          "base_uri": "https://localhost:8080/"
        },
        "id": "1VTQsdKJ-klL",
        "outputId": "e5941062-59be-4142-ff61-dc8f0a98166c"
      },
      "execution_count": null,
      "outputs": [
        {
          "output_type": "stream",
          "name": "stdout",
          "text": [
            "Please enter a number: 34\n",
            "Square of 34 = 1156\n"
          ]
        }
      ]
    },
    {
      "cell_type": "markdown",
      "source": [
        "**Q4. Accept two integers as input and print their sum as output.**"
      ],
      "metadata": {
        "id": "us0x64wA_pCj"
      }
    },
    {
      "cell_type": "code",
      "source": [
        "num1 = int(input(\"Enter the first number: \"))\n",
        "num2 = int(input(\"Enter the second number: \"))\n",
        "print('Sum of these 2 numbers=', num1+num2)"
      ],
      "metadata": {
        "colab": {
          "base_uri": "https://localhost:8080/"
        },
        "id": "HJryL47X_93V",
        "outputId": "a8955ed7-0d64-4c86-eb61-6562130762de"
      },
      "execution_count": null,
      "outputs": [
        {
          "output_type": "stream",
          "name": "stdout",
          "text": [
            "Enter the first number: 4\n",
            "Enter the second number: 6\n",
            "Sum of these 2 numbers= 10\n"
          ]
        }
      ]
    },
    {
      "cell_type": "markdown",
      "source": [
        "**Q5. Accept two words as input and print the two words after adding a space between them.**"
      ],
      "metadata": {
        "id": "5uF5WLtVAtpI"
      }
    },
    {
      "cell_type": "code",
      "source": [
        "str1 = input(\"Enter the first word: \")\n",
        "str2 = input(\"Enter the second word: \")\n",
        "print('Concating these 2 words we get ', str1+' '+str2)"
      ],
      "metadata": {
        "colab": {
          "base_uri": "https://localhost:8080/"
        },
        "id": "qRUtJwRcAwvK",
        "outputId": "72d91253-f3a8-41a8-b499-5697180a3877"
      },
      "execution_count": null,
      "outputs": [
        {
          "output_type": "stream",
          "name": "stdout",
          "text": [
            "Enter the first word: Misbah\n",
            "Enter the second word: Sirnaik\n",
            "Concating these 2 words we get  Misbah Sirnaik\n"
          ]
        }
      ]
    },
    {
      "cell_type": "markdown",
      "source": [
        "**Q6. Accept the registration number of a vehicle as input and print its state-code as output.**"
      ],
      "metadata": {
        "id": "YtQjD4oqBbu8"
      }
    },
    {
      "cell_type": "code",
      "source": [
        "reg_no = input(\"Enter the registration number of your vehicle: \")\n",
        "print('STATE CODE:', reg_no[0:2])"
      ],
      "metadata": {
        "colab": {
          "base_uri": "https://localhost:8080/"
        },
        "id": "2Hi4H1NsBfxD",
        "outputId": "d1f5368e-2400-44d0-c2d9-088bfdf82176"
      },
      "execution_count": null,
      "outputs": [
        {
          "output_type": "stream",
          "name": "stdout",
          "text": [
            "Enter the registration number of your vehicle: MH01BG40\n",
            "STATE CODE: MH\n"
          ]
        }
      ]
    },
    {
      "cell_type": "markdown",
      "source": [
        "**Q7. Accept a five digit number as input and print the sum of its digits as output.**"
      ],
      "metadata": {
        "id": "3OpGqzAYChdF"
      }
    },
    {
      "cell_type": "code",
      "source": [
        "num = str(input(\"Enter a five digit number: \"))\n",
        "sum=0\n",
        "\n",
        "while num>0:\n",
        "  last_digit = num % 10\n",
        "  sum=sum + last_digit\n",
        "  num=num//10\n",
        "print(\"Sum of its digits are\", sum)\n",
        "\n",
        "for i in num:\n",
        "  print(i)"
      ],
      "metadata": {
        "colab": {
          "base_uri": "https://localhost:8080/"
        },
        "id": "446Q1NoUChB_",
        "outputId": "972e332d-900a-4cd5-ee0a-190af6586ed6"
      },
      "execution_count": null,
      "outputs": [
        {
          "output_type": "stream",
          "name": "stdout",
          "text": [
            "Enter a five digit number: 12345\n",
            "1\n",
            "2\n",
            "3\n",
            "4\n",
            "5\n"
          ]
        }
      ]
    },
    {
      "cell_type": "markdown",
      "source": [
        "**Q8. Print the following pattern**"
      ],
      "metadata": {
        "id": "a9t4cr5xKyLD"
      }
    },
    {
      "cell_type": "markdown",
      "source": [
        "![image.png](data:image/png;base64,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)"
      ],
      "metadata": {
        "id": "htq3KD_FLcqa"
      }
    },
    {
      "cell_type": "code",
      "source": [
        "import math\n",
        "i=3\n",
        "while i<=9:\n",
        "  j=1\n",
        "  while j<=i:\n",
        "    if j<=math.floor(i/2):\n",
        "      print(j, end=\"\")\n",
        "    else:\n",
        "      print((i-j)+1, end=\"\")\n",
        "    j=j+1\n",
        "  print()\n",
        "  i=i+2"
      ],
      "metadata": {
        "colab": {
          "base_uri": "https://localhost:8080/"
        },
        "id": "07UjUKnFLXbE",
        "outputId": "53b20a41-ca0b-433e-fba4-e7ca1dfd15e0"
      },
      "execution_count": 4,
      "outputs": [
        {
          "output_type": "stream",
          "name": "stdout",
          "text": [
            "121\n",
            "12321\n",
            "1234321\n",
            "123454321\n"
          ]
        }
      ]
    },
    {
      "cell_type": "markdown",
      "source": [
        "**Q9. A simple algorithm has to be designed to find out whether a student belongs to the Data Science\n",
        "branch or not. The input will be a student's roll number, which is of the form BR18B0000. Here, BR\n",
        "represents the branch code, 18 represents the year of joining, B represents the education level and\n",
        "0000 represents the specific identification given to the student of that batch. The branch code for\n",
        "Data Science is DS. Print True if the student belongs to the Data Science branch and False otherwise.**"
      ],
      "metadata": {
        "id": "AaHzlttqfnrH"
      }
    },
    {
      "cell_type": "code",
      "source": [
        "roll_no = input(\"Please enter the roll no. of the student: \")\n",
        "print(roll_no[0:2]=='DS')\n"
      ],
      "metadata": {
        "colab": {
          "base_uri": "https://localhost:8080/"
        },
        "id": "S-j-FmxTfsrU",
        "outputId": "91a33194-196f-4441-9e97-d42a7128d62f"
      },
      "execution_count": 10,
      "outputs": [
        {
          "output_type": "stream",
          "name": "stdout",
          "text": [
            "Please enter the roll no. of the student: DS12B0001\n",
            "True\n"
          ]
        }
      ]
    },
    {
      "cell_type": "markdown",
      "source": [
        "**Q10. The police are trying to track a criminal based on the evidence available at a crime site. Their main clue is a vehicle's damaged number plate. Only the string TN07 is visible. The format of the registration number is AA00AA00, where the first two letters are alphabets, next two are numbers,next two are again alphabets followed by two numbers at the end. A number plate is picked from a database of registration numbers and is given to you as input. Your task is to determine if this could belong to the criminal or not. Print True if the number plate contains TN07 and False otherwise.**"
      ],
      "metadata": {
        "id": "1seNoB54hj-D"
      }
    },
    {
      "cell_type": "code",
      "source": [
        "reg_no = input(\"Enter the reg. no: \")\n",
        "\n",
        "print('TN07' == reg_no[:4] or 'TN07' == reg_no[4:])\n"
      ],
      "metadata": {
        "colab": {
          "base_uri": "https://localhost:8080/"
        },
        "id": "tKjwHrN4hkfs",
        "outputId": "3942bef2-1938-404c-b978-46ebe8d8a051"
      },
      "execution_count": 23,
      "outputs": [
        {
          "output_type": "stream",
          "name": "stdout",
          "text": [
            "Enter the reg. no: TN0789\n",
            "True\n"
          ]
        }
      ]
    },
    {
      "cell_type": "markdown",
      "source": [
        "**Q11. Accept two integers a and b as input and print the absolute difference of both the numbers. For example, if a=9, b=8, then the absolute difference is 9−8=1. So, your output should be 1. You should be able to solve this problem using the concepts covered in this week.**"
      ],
      "metadata": {
        "id": "hOAw_agKkl9I"
      }
    },
    {
      "cell_type": "code",
      "source": [
        "a=int(input(\"Enter the value of a: \"))\n",
        "b=int(input(\"Enter the value of b: \"))\n",
        "\n",
        "# if a>b:\n",
        "#   print(a-b)\n",
        "# else:\n",
        "#   print(b-a)\n",
        "\n",
        "print(int(((b-a)**2)**0.5))"
      ],
      "metadata": {
        "colab": {
          "base_uri": "https://localhost:8080/"
        },
        "id": "-lDQZeC9kmWp",
        "outputId": "3f73556b-c42c-4b80-ca9c-cfe98093ead8"
      },
      "execution_count": 5,
      "outputs": [
        {
          "output_type": "stream",
          "name": "stdout",
          "text": [
            "Enter the value of a: 78\n",
            "Enter the value of b: 90\n",
            "12\n"
          ]
        }
      ]
    },
    {
      "cell_type": "markdown",
      "source": [
        "**Q12. You are given a string and two non-negative integers as input. The two integers specify the start and end indices of a substring in the given string. Create a new string by replicating the substring a minimum number of times so that the resulting string is longer than the input string. The input parameters are the string, start index of the substring and the end index of substring (endpoints inclusive) each on a different line.**"
      ],
      "metadata": {
        "id": "ru_E71OPAAaC"
      }
    },
    {
      "cell_type": "code",
      "source": [
        "str1 = input(\"Enter the string: \")\n",
        "start_index = int(input(\"Enter the first number: \"))\n",
        "end_index = int(input(\"Enter the second number: \"))\n",
        "length = len(str1)\n",
        "diff = (end_index-start_index)+1\n",
        "print(str1[start_index:(end_index+1)]*int((length/diff)+1))\n"
      ],
      "metadata": {
        "colab": {
          "base_uri": "https://localhost:8080/"
        },
        "id": "ZuBH6t0YALy-",
        "outputId": "47d1d98e-122e-4ce7-b472-94ded7963d32"
      },
      "execution_count": 9,
      "outputs": [
        {
          "output_type": "stream",
          "name": "stdout",
          "text": [
            "Enter the string: Misbah\n",
            "Enter the first number: 2\n",
            "Enter the second number: 4\n",
            "sbasbasba\n"
          ]
        }
      ]
    },
    {
      "cell_type": "markdown",
      "source": [
        "**Q13. The following expression is called a continued fraction:\n",
        "Accept a positive integer x as input, compute the value of this continued fraction and store the result\n",
        "in a variable named cfrac. We will round off your answer to exactly two decimal places. You don't\n",
        "have to print the output to the console, we will take care of that.**"
      ],
      "metadata": {
        "id": "KfWH9GxoDDTb"
      }
    },
    {
      "cell_type": "markdown",
      "source": [
        "![image.png](data:image/png;base64,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)"
      ],
      "metadata": {
        "id": "qLduwAJwDJsy"
      }
    },
    {
      "cell_type": "code",
      "source": [
        "x=int(input(\"Enter positive integer: \"))\n",
        "x0 = x + 1/x\n",
        "x1 = x + 1/x0\n",
        "x2 = x + 1/x1\n",
        "x3 = x + 1/x2\n",
        "cfrac = x + 1/x3\n",
        "print(cfrac)"
      ],
      "metadata": {
        "colab": {
          "base_uri": "https://localhost:8080/"
        },
        "id": "Qj3k_cjPDNMf",
        "outputId": "c8b4421b-1209-4dee-a49e-88d649cb3680"
      },
      "execution_count": 11,
      "outputs": [
        {
          "output_type": "stream",
          "name": "stdout",
          "text": [
            "Enter positive integer: 3\n",
            "3.302777777777778\n"
          ]
        }
      ]
    }
  ]
}