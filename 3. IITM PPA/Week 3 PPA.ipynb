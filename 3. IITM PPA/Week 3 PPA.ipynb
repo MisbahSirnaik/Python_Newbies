{
  "nbformat": 4,
  "nbformat_minor": 0,
  "metadata": {
    "colab": {
      "provenance": []
    },
    "kernelspec": {
      "name": "python3",
      "display_name": "Python 3"
    },
    "language_info": {
      "name": "python"
    }
  },
  "cells": [
    {
      "cell_type": "markdown",
      "source": [
        "**Question 1:**\n",
        "Accept a positive integer n as input and print the first n positive integers, one number on each line."
      ],
      "metadata": {
        "id": "FAhLFuCGIbdG"
      }
    },
    {
      "cell_type": "code",
      "execution_count": 4,
      "metadata": {
        "id": "0bXNe0GgMxD7",
        "colab": {
          "base_uri": "https://localhost:8080/"
        },
        "outputId": "c429c6cb-1e8c-4d6e-84a6-58f04fbd3393"
      },
      "outputs": [
        {
          "output_type": "stream",
          "name": "stdout",
          "text": [
            "Enter a positive integer n as input: 7\n",
            "1\n",
            "2\n",
            "3\n",
            "4\n",
            "5\n",
            "6\n",
            "7\n"
          ]
        }
      ],
      "source": [
        "n = int(input(\"Enter a positive integer n as input: \"))\n",
        "i=1\n",
        "while i <=n:\n",
        "  print(i)\n",
        "  i+=1"
      ]
    },
    {
      "cell_type": "markdown",
      "source": [
        "**Question 2:** Accept two positive integers a and b as input. Print the sum of all integers in the range [1000,2000], endpoints inclusive, that are divisible by both a and b. If you find no number satisfying this condition\n",
        "in the given range, then print 0."
      ],
      "metadata": {
        "id": "Uv7voUGGJ_DB"
      }
    },
    {
      "cell_type": "code",
      "source": [
        "a,b = int(input(\"Enter the value of a: \")), int(input(\"Enter the value of b: \"))\n",
        "sum = 0\n",
        "for i in range(1000, 2001):\n",
        "  if i%a==0 and i%b==0:\n",
        "    sum = sum + i\n",
        "\n",
        "print(sum)"
      ],
      "metadata": {
        "colab": {
          "base_uri": "https://localhost:8080/"
        },
        "id": "oEb6dOYUKLAz",
        "outputId": "69da4737-b940-4b3d-bd77-9b5bff9146bf"
      },
      "execution_count": 5,
      "outputs": [
        {
          "output_type": "stream",
          "name": "stdout",
          "text": [
            "Enter the value of a: 5\n",
            "Enter the value of b: 4\n",
            "76500\n"
          ]
        }
      ]
    },
    {
      "cell_type": "markdown",
      "source": [
        "**Question 3**: Accept a positive integer n as input, where n>1. Print PRIME if n is a prime number and NOT PRIME\n",
        "otherwise."
      ],
      "metadata": {
        "id": "ElfEFSinLYfs"
      }
    },
    {
      "cell_type": "code",
      "source": [
        "n = int(input(\"Enter a positive integer n: \"))\n",
        "i = 1\n",
        "factors = 0\n",
        "if n>1:\n",
        "  while i<=n:\n",
        "    if n%i==0:\n",
        "      factors=factors+1\n",
        "    i+=1\n",
        "  if factors==2:\n",
        "    print(\"PRIME\")\n",
        "  else:\n",
        "    print(\"NOT PRIME\")\n",
        "else:\n",
        "  print(\"Please enter a number that is greater than 1\")"
      ],
      "metadata": {
        "colab": {
          "base_uri": "https://localhost:8080/"
        },
        "id": "aENSR5PULYE0",
        "outputId": "c635d658-a8b4-4769-a54c-7192f1c6b6b3"
      },
      "execution_count": 7,
      "outputs": [
        {
          "output_type": "stream",
          "name": "stdout",
          "text": [
            "Enter a positive integer n: 46\n",
            "NOT PRIME\n"
          ]
        }
      ]
    },
    {
      "cell_type": "markdown",
      "source": [
        "**Question 4:**\n",
        "Accept a sequence of positive integers as input and print the maximum number in the sequence. The\n",
        "input will have n+1 lines, where n denotes the number of terms in the sequence. The ith line in the input will contain the ith term in the sequence for 1≤i≤n. The last line of the input will always be the number 0. Each test case will have at least one term in the sequence."
      ],
      "metadata": {
        "id": "51BthNkPOJ9h"
      }
    },
    {
      "cell_type": "code",
      "source": [
        "n = int(input(\"Enter the number of terms in the sequence: \"))\n",
        "t1 = int(input(\"Enter a positive integer: \"))\n",
        "max = 0\n",
        "i = 1\n",
        "while i < n:\n",
        "  tn = int(input(\"Enter a positive integer: \"))\n",
        "  if t1 >= max:\n",
        "    max = t1\n",
        "  t1 = tn\n",
        "  i += 1\n",
        "print(\"MAXIMUM = \", max)"
      ],
      "metadata": {
        "colab": {
          "base_uri": "https://localhost:8080/"
        },
        "id": "IPwOxLlxONmQ",
        "outputId": "c652b1c4-553d-4c42-c99e-dfe0b4700da4"
      },
      "execution_count": 11,
      "outputs": [
        {
          "output_type": "stream",
          "name": "stdout",
          "text": [
            "Enter the number of terms in the sequence: 5\n",
            "Enter a positive integer: 11\n",
            "Enter a positive integer: 2\n",
            "Enter a positive integer: 43\n",
            "Enter a positive integer: 34\n",
            "Enter a positive integer: 21\n",
            "MAXIMUM =  43\n"
          ]
        }
      ]
    },
    {
      "cell_type": "markdown",
      "source": [
        "**Question 5:**\n",
        "Accept a sequence of words as input and print the shortest word in the sequence. The input will have n+1 lines, where n denotes the number of terms in the sequence. The ith line in the input will contain the ith word in the sequence for 1≤i≤n. The last line of the input will always be the string abcdefghijklmnopqrstuvwxyz. This string is not a part of the sequence. You can assume that each test case corresponds to a non-empty sequence of words. If there are multiple words that have the same minimum length, print the first such occurrence."
      ],
      "metadata": {
        "id": "z7JN5GQoYEBO"
      }
    },
    {
      "cell_type": "code",
      "source": [
        "word = input(\"Enter a word: \")\n",
        "short = 'abcdefghijklmnopqrstuvwxyz'\n",
        "while len(word)!= len('abcdefghijklmnopqrstuvwxyz'):\n",
        "  if len(word) < len(short):\n",
        "    short = word\n",
        "  word = input(\"Enter the next word: \")\n",
        "print(\"Shortest word:\", short)"
      ],
      "metadata": {
        "colab": {
          "base_uri": "https://localhost:8080/"
        },
        "id": "CBzbbKrgYETE",
        "outputId": "904c808a-ff11-40a6-f478-a394b3432041"
      },
      "execution_count": 13,
      "outputs": [
        {
          "output_type": "stream",
          "name": "stdout",
          "text": [
            "Enter a word: mis\n",
            "Enter the next word: bah\n",
            "Enter the next word: sirnaik\n",
            "Enter the next word: 1\n",
            "Enter the next word: am\n",
            "Enter the next word: abcdefghijklmnopqrstuvwxyz\n",
            "Shortest word: 1\n"
          ]
        }
      ]
    },
    {
      "cell_type": "markdown",
      "source": [
        "**Question 6:**\n",
        "Accept a positive integer as input and print the sum of the digits in the number."
      ],
      "metadata": {
        "id": "oACisS5Qc2kn"
      }
    },
    {
      "cell_type": "code",
      "source": [
        "n = input(\"Enter positive integer: \")\n",
        "sum = 0\n",
        "for i in n:\n",
        "  sum = sum + int(i)\n",
        "\n",
        "print(\"Sum of the digits in the number= \", sum)"
      ],
      "metadata": {
        "colab": {
          "base_uri": "https://localhost:8080/"
        },
        "id": "h2_k9ON-c5o1",
        "outputId": "b3f79b3f-1b3d-42db-aede-53649374cd5b"
      },
      "execution_count": 1,
      "outputs": [
        {
          "output_type": "stream",
          "name": "stdout",
          "text": [
            "Enter positive integer: 5678\n",
            "Sum of the digits in the number=  26\n"
          ]
        }
      ]
    },
    {
      "cell_type": "markdown",
      "source": [
        "**Question 7:** Accept a positive integer n as input and print the first n integers on a line separated by a comma."
      ],
      "metadata": {
        "id": "T99o_DeCzx8P"
      }
    },
    {
      "cell_type": "code",
      "source": [
        "n = int(input(\"Enter a positive integer: \"))\n",
        "for i in range(1, n):\n",
        "  print(str(i)+\",\",end='')\n",
        "print(n)"
      ],
      "metadata": {
        "colab": {
          "base_uri": "https://localhost:8080/"
        },
        "id": "s_EPzK4HzyVx",
        "outputId": "c71cb3bc-f2f8-4fa3-8804-bd8fad2c04b2"
      },
      "execution_count": 6,
      "outputs": [
        {
          "output_type": "stream",
          "name": "stdout",
          "text": [
            "Enter a positive integer: 5\n",
            "1,2,3,4,5\n"
          ]
        }
      ]
    },
    {
      "cell_type": "markdown",
      "source": [
        "**Question 8**\n",
        "Accept a positive integer n as input and print a triangle of zeros for n lines. The ith line should have i zeros. There shouldn't be any spaces between consecutive zeros. Do not print a space at the end of a line."
      ],
      "metadata": {
        "id": "Yex49AlC7mRd"
      }
    },
    {
      "cell_type": "code",
      "source": [
        "n = int(input(\"Enter a positive integer n: \"))\n",
        "i=1\n",
        "while i<=n:\n",
        "  print('0'*i)\n",
        "  i=i+1"
      ],
      "metadata": {
        "colab": {
          "base_uri": "https://localhost:8080/"
        },
        "id": "ObH1Gh-T7wLQ",
        "outputId": "b38c8c04-32a8-49a7-e447-d6176d17157b"
      },
      "execution_count": 8,
      "outputs": [
        {
          "output_type": "stream",
          "name": "stdout",
          "text": [
            "Enter a positive integer n: 7\n",
            "0\n",
            "00\n",
            "000\n",
            "0000\n",
            "00000\n",
            "000000\n",
            "0000000\n"
          ]
        }
      ]
    },
    {
      "cell_type": "markdown",
      "source": [
        "**Question 9:**\n",
        "Accept a positive integer n as input and print the sum of all prime numbers in the range [1,n], endpoints inclusive. If there are no prime numbers in the given range, then print 0."
      ],
      "metadata": {
        "id": "99ZIF4Si9Urk"
      }
    },
    {
      "cell_type": "code",
      "source": [
        "n = int(input(\"Enter a positive integer n as input: \"))\n",
        "check=True\n",
        "for i in range(,n+1):\n",
        "  for j in range(,i):\n",
        "    if i%j == 0:\n",
        "      check=False\n",
        "    sum = sum+\n",
        "\n",
        "\n",
        "\n"
      ],
      "metadata": {
        "id": "WNNPRsB99bhl"
      },
      "execution_count": null,
      "outputs": []
    },
    {
      "cell_type": "markdown",
      "source": [
        "**Question 10:**\n",
        "Accept two strings as input and form a new string by removing all characters from the second string which are present in the first string. Print this new string as output. You can assume that all input strings will be in lower case."
      ],
      "metadata": {
        "id": "i7nCOK7-cdB0"
      }
    },
    {
      "cell_type": "code",
      "source": [
        "str1 = input(\"Enter the 1st string: \")\n",
        "str2 = input(\"Enter the 2nd string: \")\n",
        "\n",
        "for i in str1:\n",
        "  if i in str2:\n",
        "    str2 = str2.replace(i,'')\n",
        "\n",
        "print(str2)"
      ],
      "metadata": {
        "colab": {
          "base_uri": "https://localhost:8080/"
        },
        "id": "Jf2HwqPqglBM",
        "outputId": "ab535cd1-3127-4f8d-a44a-67e280eb7a4e"
      },
      "execution_count": 3,
      "outputs": [
        {
          "output_type": "stream",
          "name": "stdout",
          "text": [
            "Enter the 1st string: misbah\n",
            "Enter the 2nd string: misbahaslamsirnaik\n",
            "lrnk\n"
          ]
        }
      ]
    },
    {
      "cell_type": "code",
      "source": [
        "st1 = input()\n",
        "st2 = input()\n",
        "\n",
        "st=''\n",
        "\n",
        "for ch in st2:\n",
        "  check = True\n",
        "  for t in st1:\n",
        "    if ch == t :\n",
        "      check = False\n",
        "  if check:\n",
        "    st += ch\n",
        "\n",
        "print(st)"
      ],
      "metadata": {
        "colab": {
          "base_uri": "https://localhost:8080/"
        },
        "id": "yjj4yU8RhDRB",
        "outputId": "a6e7fd6b-378b-4ac9-ea08-d5811e77053b"
      },
      "execution_count": 4,
      "outputs": [
        {
          "output_type": "stream",
          "name": "stdout",
          "text": [
            "misbah\n",
            "misbahaslamsirnaik\n",
            "lrnk\n"
          ]
        }
      ]
    },
    {
      "cell_type": "markdown",
      "source": [
        "**Question 11**\n",
        "Accept a string as input and print PALINDROME if it is a palindrome, and NOT PALINDROME\n",
        "otherwise."
      ],
      "metadata": {
        "id": "gHosXlUYiEbd"
      }
    },
    {
      "cell_type": "code",
      "source": [
        "str_val = input(\"Enter a string: \")\n",
        "\n",
        "if str_val == str_val[::-1]:\n",
        "  print(\"PALINDROME\")\n",
        "else:\n",
        "  print(\"NOT PALINDROME\")"
      ],
      "metadata": {
        "colab": {
          "base_uri": "https://localhost:8080/"
        },
        "id": "X7oKx6uaiD_5",
        "outputId": "e7315a2b-194b-4002-dbe9-ba1e2f277227"
      },
      "execution_count": 9,
      "outputs": [
        {
          "output_type": "stream",
          "name": "stdout",
          "text": [
            "Enter a string: tattarrattat\n",
            "PALINDROME\n"
          ]
        }
      ]
    },
    {
      "cell_type": "markdown",
      "source": [
        "**Question 12:**\n",
        "Two integers are co-prime if the only common divisor between the two integers is one.\n",
        "Accept two positive integers as input in two different lines. Print Coprime if the two integers are\n",
        "co-prime, else print Not Coprime. Assume that both the integers are greater than two."
      ],
      "metadata": {
        "id": "Kk8peNDSjWug"
      }
    },
    {
      "cell_type": "code",
      "source": [
        "n1,n2 = int(input(\"Enter the 1st integer: \")), int(input(\"Enter the 2nd integer: \"))\n",
        "\n"
      ],
      "metadata": {
        "id": "8ps5AS19jejY"
      },
      "execution_count": null,
      "outputs": []
    },
    {
      "cell_type": "markdown",
      "source": [
        "**Question 13**\n",
        "Accept a string as input, print Integer if the string is an integer, print Float if it is a float, else print None."
      ],
      "metadata": {
        "id": "ewgFhPqslRe5"
      }
    },
    {
      "cell_type": "code",
      "source": [
        "val = input(\"Enter a value [integer or float] in the form of a string: \")\n",
        "\n",
        "\n"
      ],
      "metadata": {
        "id": "766t1lO8lZi2"
      },
      "execution_count": null,
      "outputs": []
    },
    {
      "cell_type": "markdown",
      "source": [
        "Multiple Select Questions (MSQ) could have more than one correct answers. The marks scored by a student in a MSQ will be determined by the following conditions:\n",
        "\n",
        "(1) If the question has c correct options, each individual correct option carries marks\n",
        "\n",
        "(2) If a student selects any of the wrong options, the marks awarded for the question will be 0.\n",
        "\n",
        "Calculate the marks obtained by the student and print this as float value.\n",
        "\n",
        "The input contains four lines.\n",
        "\n",
        "(1) First line is the number of marks for the question.\n",
        "\n",
        "(2) Second line contains the number of options for the question.\n",
        "\n",
        "(3) Third line is a comma-separated sequence of correct options for this question\n",
        "\n",
        "(4) Fourth line is a comma-separated sequence of options given by the student.\n",
        "\n",
        "Write a program to print the number of marks scored by a student."
      ],
      "metadata": {
        "id": "94rpzFHFmpqj"
      }
    },
    {
      "cell_type": "code",
      "source": [
        "marks = int(input(\"Enter the marks for the question: \"))\n",
        "options = int(input(\"How many options are given for the respective question? \"))\n",
        "correct_options = input(\"Correct options: \")\n",
        "options_marked = input(\"Options marked by student: \")\n",
        "\n"
      ],
      "metadata": {
        "id": "HYMpShJGmxwx"
      },
      "execution_count": null,
      "outputs": []
    }
  ]
}