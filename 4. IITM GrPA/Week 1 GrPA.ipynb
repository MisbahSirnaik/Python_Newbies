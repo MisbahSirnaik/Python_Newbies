{
  "nbformat": 4,
  "nbformat_minor": 0,
  "metadata": {
    "colab": {
      "provenance": []
    },
    "kernelspec": {
      "name": "python3",
      "display_name": "Python 3"
    },
    "language_info": {
      "name": "python"
    }
  },
  "cells": [
    {
      "cell_type": "markdown",
      "source": [
        "\n",
        "# Question 1\n",
        "---\n",
        "\n",
        "\n",
        "**Tasks 1 to 3** - building up Arithemetic expression\n",
        "\n",
        "---\n",
        "\n",
        "\n",
        "**Tasks 4 and 5** - floating point arithemetic\n",
        "\n",
        "---\n",
        "\n",
        "\n",
        "**Tasks 6 and 7** - modulo and floor division\n",
        "\n",
        "\n",
        "---\n",
        "\n"
      ],
      "metadata": {
        "id": "UehbxGXbIaek"
      }
    },
    {
      "cell_type": "code",
      "execution_count": 3,
      "metadata": {
        "id": "QKEWcKY_txYU",
        "colab": {
          "base_uri": "https://localhost:8080/"
        },
        "outputId": "e03ca6af-bfb6-4c1f-8d45-da5f1edf3508"
      },
      "outputs": [
        {
          "output_type": "stream",
          "name": "stdout",
          "text": [
            "Sum of a and b= 11\n",
            "Twice the sum of a and b= 22\n",
            "Absolute difference between a and b 1\n",
            "Absolute difference between sum and product of a and b 19\n",
            "Discounted price given price and discount_percent= 75.4\n",
            "Rounded discounted price= 76.0\n",
            "hrs= 7\n",
            "mins= 49\n"
          ]
        }
      ],
      "source": [
        "# Sample inputs (# note: The values given in the prefix code(grey) will be changed by the autograder according to the testcase while running them.\n",
        "a = 5\n",
        "b = 6\n",
        "price, discount_percent = 80, 5.75\n",
        "total_mins = 470\n",
        "# <eoi>\n",
        "\n",
        "output1 = a+b # int: sum of a and b\n",
        "print(\"Sum of a and b=\",output1)\n",
        "\n",
        "output2 = 2*(a+b) # int: twice the sum of a and b\n",
        "print(\"Twice the sum of a and b=\",output2)\n",
        "\n",
        "output3 = int((((a-b)**2)**0.5)) # int: absolute difference between a and b\n",
        "print(\"Absolute difference between a and b\",output3)\n",
        "\n",
        "output4 = int(((((a+b)-(a*b))**2)**0.5)) # int: absolute difference between sum and product of a and b\n",
        "print(\"Absolute difference between sum and product of a and b\",output4)\n",
        "\n",
        "# Find discounted price given price and discount_percent\n",
        "# input variables : price: int, discount_percent: float\n",
        "discounted_price =  (price - (discount_percent * price)/100) # float\n",
        "print(\"Discounted price given price and discount_percent=\",discounted_price)\n",
        "\n",
        "# Round the discounted_price\n",
        "rounded_discounted_price = (price - (discount_percent * price)//100) # int\n",
        "print(\"Rounded discounted price=\",rounded_discounted_price)\n",
        "\n",
        "# Find hrs and mins given the total_mins\n",
        "# input variables : total_mins\n",
        "\n",
        "hrs = total_mins//60 # int: hint: think about floor division operator\n",
        "print(\"hrs=\",hrs)\n",
        "\n",
        "mins = int((total_mins/60 - hrs)*60) # int\n",
        "print(\"mins=\",mins)"
      ]
    },
    {
      "cell_type": "markdown",
      "source": [
        "# Question 2\n",
        "Solve all the below tasks related to relational and logical operators.\n",
        "\n",
        "This exercise gives you practice in building up boolean expressions."
      ],
      "metadata": {
        "id": "_gQQYG78KC8k"
      }
    },
    {
      "cell_type": "code",
      "source": [
        "# Sample inputs (# note: The values given in the prefix code(grey) will be changed by the autograder according to the testcase while running them.\n",
        "a = 5\n",
        "\n",
        "price1, discount1 = 50, 4 # for offer1\n",
        "price2, discount2 = 60, 8 # for offer2\n",
        "\n",
        "# Assume discount is given in percentages\n",
        "\n",
        "# <eoi>\n",
        "\n",
        "output1 = a>=5 # bool: True if a greater than or equal to 5\n",
        "\n",
        "output2 = a%5==0 # bool: True if a is divisible by 5\n",
        "\n",
        "output3 = a%2!=0 and a < 10 # bool: True if a is odd number less than 10\n",
        "\n",
        "output4 = a%2!=0 and  (a >= -10 and a <= 10) # bool: True if a is an odd number within the range -10 and 10\n",
        "\n",
        "output5 = len(str(a))%2==0 and len(str(a)) <=10 # bool: True if a has even number of digits but not more than 10 digits\n",
        "\n",
        "is_offer1_cheaper = (price1 - (discount1*price1)/100) <  (price2 - (discount2*price2)/100) # bool: True if the offer1 is strictly cheaper\n"
      ],
      "metadata": {
        "id": "a6eTIKLFKZ0c"
      },
      "execution_count": null,
      "outputs": []
    },
    {
      "cell_type": "markdown",
      "source": [
        "# Question 3\n",
        "Solve all the below tasks related to indexing and slicing.\n",
        "This exercise gives you practice in different indexing and slicing methods."
      ],
      "metadata": {
        "id": "lggjdpndKtSO"
      }
    },
    {
      "cell_type": "code",
      "source": [
        "# Sample inputs (# note: The values given in the prefix code(grey) will be changed by the autograder according to the testcase while running them.\n",
        "\n",
        "s = \"hello pyhton\"\n",
        "course_code = \"24t2cs1002\" # 24 - year, t2 - term 2, cs1002 - course id\n",
        "# <eoi>\n",
        "\n",
        "output1 = s[2] # str: get the third character of s\n",
        "\n",
        "output2 = s[-4] # str: get the fourth last character of s\n",
        "\n",
        "output3 = s[0:3] # str: get the first 3 characters of s\n",
        "\n",
        "output4 = s[0::2] # str: get every second character of s\n",
        "\n",
        "output5 = s[len(s)-3:] # str: get the last 3 characters of s\n",
        "\n",
        "output6 = s[::-1] # str: get the reverse of s\n",
        "\n",
        "course_term = int(course_code[3:4]) # int: get the term of the year as number from course_code\n",
        "course_year = int(course_code[0:2]) # int: get the year as two digit number from course_code\n"
      ],
      "metadata": {
        "id": "4bwsV6CDK1wB"
      },
      "execution_count": null,
      "outputs": []
    },
    {
      "cell_type": "markdown",
      "source": [
        "# Question 4\n",
        "Solve all the below tasks related to string concatenation, repeatition and substring check in strings."
      ],
      "metadata": {
        "id": "gXqsh7uPK-ju"
      }
    },
    {
      "cell_type": "code",
      "source": [
        "# Sample inputs (# note: The values given in the prefix code(grey) will be changed by the autograder according to the testcase while running them.\n",
        "word1 = \"Wingardium\" # str\n",
        "word2 = \"Leviyosa\" # str\n",
        "word3 = \"Silver\" # str\n",
        "sentence = \"Learning python is fun\"\n",
        "n1 = 6 # int\n",
        "n2 = 4 # int\n",
        "# <eoi>\n",
        "\n",
        "output1 = word1+' '+word2 # str: join word1 and word2 with space in between\n",
        "\n",
        "output2 = word1[:4]+'-'+word2[len(word2)-4:] # str: join first four letters of word1 and last four letters of word 2 with a hyphen \"-\" in between\n",
        "\n",
        "output3 = word3+' '+str(n1) # str: join the word3 and n1 with a space in between\n",
        "\n",
        "output4 = \"-\"*50 # str: just the hypen \"-\" repeated 50 times\n",
        "\n",
        "output5 = \"-\"*n2 # str: just the hypen \"-\" repeated n2 times\n",
        "\n",
        "output6 = str(str(n1)*n2) # str: repeat the number n1, n2 times\n",
        "\n",
        "are_all_words_equal = len(word1) == len(word2) and len(word2) == len(word3) # bool: True if all three words are equal\n",
        "\n",
        "is_word1_comes_before_other_two =  word1<word2 and word1<word3# bool: True if word1 comes before word2 and word3 assume all words are different\n",
        "\n",
        "has_h = 'h' in word1 # bool: True if word1 has the letter h\n",
        "\n",
        "ends_with_a = (word1[len(word1)-1])=='a' or (word1[len(word1)-1])=='A' # bool: True if word1 ends with letter a or A\n",
        "\n",
        "has_the_word_python = 'python' in sentence # bool: True if the sentence has the word python\n"
      ],
      "metadata": {
        "id": "2qL6k6F0LJIU"
      },
      "execution_count": null,
      "outputs": []
    },
    {
      "cell_type": "markdown",
      "source": [
        "# Question 5\n",
        "Get age(int), dob(str of format \"dd/mm/yy\") and weight(float) from the standard input and print the tenth_month, fifth_birthday and last_birthday formatted as \"day/month/year\"(do not include the preceeding zero for single digit number) separated by comma and a space a single line and print the weight_readable(str formatted as \"55 kg 200 grams\")\n",
        "\n",
        "Note: while formatting dates you may have to convert back int to str using the type conversion. There is something called as \"f-strings\" or \"formatted strings\" that will help us format things by automatically doing type conversion. This will be covered in later weeks. But you can explore that (Google or ChatGPT) and compare the difference.\n",
        "\n",
        "Note: The last_birthday depends on the dob and age. For example if the dob is \"20/02/2001\" and the age is 5 the last birthday will be \"20/02/2006\".\n",
        "\n",
        "Note: Finding the tenth_month will be a bit of challange. If you are stuck open the below hint."
      ],
      "metadata": {
        "id": "TXiyOZ0fLQwa"
      }
    },
    {
      "cell_type": "code",
      "source": [
        "age = int(input()) # int: Read a number as integer from standard input\n",
        "dob = input() # str: Read a string of format dd/mm/yy from standard input\n",
        "day, month, year = int(dob[:2]), int(dob[3:5]), int(dob[6:]) # int, int, int: Get the correct parts from dob as int\n",
        "\n",
        "fifth_birthday =  str(day)+'/'+str(month)+'/'+str(year+5) # str: fifth birthday formatted as day/month/year\n",
        "\n",
        "last_birthday = str(day)+'/'+str(month)+'/'+str(year+age) # str: last birthday formatted as day/month/year\n",
        "\n",
        "new_month = int(month)+10\n",
        "\n",
        "if new_month>12:\n",
        "    month = new_month - 12\n",
        "    year  = year+1\n",
        "else:\n",
        "    month = new_month\n",
        "\n",
        "tenth_month = str(day)+'/'+str(month)+'/'+str(year) # str: dob same day after 10 months formatted as day/month/year\n",
        "\n",
        "# print tenth_month, fifth_birthday and last_birthday in same line separated by comma and a space\n",
        "print(tenth_month+', '+fifth_birthday+', '+last_birthday)\n",
        "\n",
        "weight = float(input()) # float: Read a number as float from stdin(Standard input)\n",
        "grams = int((weight - int(weight))*1000)\n",
        "weight_readable = str(int(weight)) +\" kg \" + str(grams) + \" grams\"# str: reformat weight of format 55 kg 250 grams\n",
        "\n",
        "# print weight_readable\n",
        "print(weight_readable)\n"
      ],
      "metadata": {
        "colab": {
          "base_uri": "https://localhost:8080/"
        },
        "id": "s12u8kTFLT4K",
        "outputId": "707f9673-89d2-42ff-b4b7-42c9818df932"
      },
      "execution_count": 5,
      "outputs": [
        {
          "output_type": "stream",
          "name": "stdout",
          "text": [
            "24\n",
            "13/02/00\n",
            "13/12/0, 13/2/5, 13/2/24\n",
            "55.6\n",
            "55 kg 600 grams\n"
          ]
        }
      ]
    }
  ]
}